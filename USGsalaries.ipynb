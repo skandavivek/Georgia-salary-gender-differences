{
 "cells": [
  {
   "cell_type": "code",
   "execution_count": 52,
   "metadata": {
    "collapsed": true
   },
   "outputs": [],
   "source": [
    "import numpy as np\n",
    "import pandas as pd\n",
    "from matplotlib import pyplot as plt\n",
    "import requests\n",
    "import json\n",
    "%matplotlib inline\n",
    "from genderize import Genderize\n",
    "from scipy import stats\n"
   ]
  },
  {
   "cell_type": "code",
   "execution_count": 2,
   "metadata": {
    "collapsed": true
   },
   "outputs": [],
   "source": [
    "df=pd.read_csv('salary_travel_all.csv',encoding = \"ISO-8859-1\")\n",
    "n=df['NAME'].str.split(' ', 1, expand=True)\n",
    "n1=n[0].str.split(',', 1, expand=True)\n",
    "df['FIRST_NAME']=n1[1]"
   ]
  },
  {
   "cell_type": "code",
   "execution_count": 83,
   "metadata": {
    "collapsed": false
   },
   "outputs": [
    {
     "data": {
      "text/html": [
       "<div>\n",
       "<table border=\"1\" class=\"dataframe\">\n",
       "  <thead>\n",
       "    <tr style=\"text-align: right;\">\n",
       "      <th></th>\n",
       "      <th>NAME</th>\n",
       "      <th>TITLE</th>\n",
       "      <th>SALARY</th>\n",
       "      <th>TRAVEL</th>\n",
       "      <th>ORGANIZATION</th>\n",
       "      <th>FISCAL_YEAR</th>\n",
       "      <th>FIRST_NAME</th>\n",
       "    </tr>\n",
       "  </thead>\n",
       "  <tbody>\n",
       "    <tr>\n",
       "      <th>0</th>\n",
       "      <td>COVINGTON,TAMMY D</td>\n",
       "      <td>CORRECTIONS OFFICER(WL)</td>\n",
       "      <td>30416.88</td>\n",
       "      <td>90.00</td>\n",
       "      <td>JUVENILE JUSTICE, DEPARTMENT OF</td>\n",
       "      <td>2013</td>\n",
       "      <td>TAMMY</td>\n",
       "    </tr>\n",
       "    <tr>\n",
       "      <th>1</th>\n",
       "      <td>COWAN,SELINA L</td>\n",
       "      <td>CORRECTIONS OFFICER(WL)</td>\n",
       "      <td>4726.76</td>\n",
       "      <td>0.00</td>\n",
       "      <td>JUVENILE JUSTICE, DEPARTMENT OF</td>\n",
       "      <td>2013</td>\n",
       "      <td>SELINA</td>\n",
       "    </tr>\n",
       "    <tr>\n",
       "      <th>2</th>\n",
       "      <td>COWSER,LATOYA</td>\n",
       "      <td>CORRECTIONS OFFICER(WL)</td>\n",
       "      <td>3582.38</td>\n",
       "      <td>0.00</td>\n",
       "      <td>JUVENILE JUSTICE, DEPARTMENT OF</td>\n",
       "      <td>2013</td>\n",
       "      <td>LATOYA</td>\n",
       "    </tr>\n",
       "    <tr>\n",
       "      <th>3</th>\n",
       "      <td>COX,JAMES K</td>\n",
       "      <td>PROBATION/PAROLEOFFICER(EL)</td>\n",
       "      <td>31060.00</td>\n",
       "      <td>168.83</td>\n",
       "      <td>JUVENILE JUSTICE, DEPARTMENT OF</td>\n",
       "      <td>2013</td>\n",
       "      <td>JAMES</td>\n",
       "    </tr>\n",
       "    <tr>\n",
       "      <th>4</th>\n",
       "      <td>COX-DENNIS,EVA</td>\n",
       "      <td>CORRECTIONS OFFICER(WL)</td>\n",
       "      <td>34063.43</td>\n",
       "      <td>0.00</td>\n",
       "      <td>JUVENILE JUSTICE, DEPARTMENT OF</td>\n",
       "      <td>2013</td>\n",
       "      <td>EVA</td>\n",
       "    </tr>\n",
       "  </tbody>\n",
       "</table>\n",
       "</div>"
      ],
      "text/plain": [
       "                NAME                        TITLE    SALARY  TRAVEL  \\\n",
       "0  COVINGTON,TAMMY D      CORRECTIONS OFFICER(WL)  30416.88   90.00   \n",
       "1     COWAN,SELINA L      CORRECTIONS OFFICER(WL)   4726.76    0.00   \n",
       "2      COWSER,LATOYA      CORRECTIONS OFFICER(WL)   3582.38    0.00   \n",
       "3        COX,JAMES K  PROBATION/PAROLEOFFICER(EL)  31060.00  168.83   \n",
       "4     COX-DENNIS,EVA      CORRECTIONS OFFICER(WL)  34063.43    0.00   \n",
       "\n",
       "                      ORGANIZATION  FISCAL_YEAR FIRST_NAME  \n",
       "0  JUVENILE JUSTICE, DEPARTMENT OF         2013      TAMMY  \n",
       "1  JUVENILE JUSTICE, DEPARTMENT OF         2013     SELINA  \n",
       "2  JUVENILE JUSTICE, DEPARTMENT OF         2013     LATOYA  \n",
       "3  JUVENILE JUSTICE, DEPARTMENT OF         2013      JAMES  \n",
       "4  JUVENILE JUSTICE, DEPARTMENT OF         2013        EVA  "
      ]
     },
     "execution_count": 83,
     "metadata": {},
     "output_type": "execute_result"
    }
   ],
   "source": [
    "df.head()"
   ]
  },
  {
   "cell_type": "code",
   "execution_count": 4,
   "metadata": {
    "collapsed": true
   },
   "outputs": [],
   "source": [
    "freq=df['FIRST_NAME'].value_counts()"
   ]
  },
  {
   "cell_type": "code",
   "execution_count": 5,
   "metadata": {
    "collapsed": true
   },
   "outputs": [],
   "source": [
    "#gender=[]\n",
    "#prob=[]\n",
    "#count=[]\n",
    "genderize = Genderize(\n",
    "    user_agent='GenderizeDocs/0.0',\n",
    "    api_key='eda87f61c52501a6d6f42379dfd4d79a',\n",
    "    timeout=5.0)\n",
    "\n",
    "for i in range(50473,len(freq)):\n",
    "    r=(genderize.get([freq.index[i]]))\n",
    "    if r[0][\"gender\"] is not None:\n",
    "        gender.append(r[0][\"gender\"])\n",
    "        prob.append(r[0][\"probability\"])\n",
    "        count.append(r[0][\"count\"])\n",
    "        \n",
    "    else:\n",
    "        gender.append('0.0')\n",
    "        prob.append('0.0')\n",
    "        count.append('0.0')\n",
    "    #if(i%10==0):\n",
    "    #    print(i)\n",
    "    \n",
    "    "
   ]
  },
  {
   "cell_type": "code",
   "execution_count": 9,
   "metadata": {
    "collapsed": false
   },
   "outputs": [],
   "source": [
    "df_fn=pd.DataFrame(data=freq.index)\n",
    "df_fn['gender']=gender\n",
    "df_fn['prob']=prob\n",
    "df_fn['count']=count\n",
    "\n",
    "df_fn.to_pickle(\"./df_fn_all.pkl\")"
   ]
  },
  {
   "cell_type": "code",
   "execution_count": 10,
   "metadata": {
    "collapsed": true
   },
   "outputs": [],
   "source": [
    "df2=df.copy()\n",
    "df2=df2.merge(df_fn,how='left', left_on='FIRST_NAME', right_on=0)\n"
   ]
  },
  {
   "cell_type": "code",
   "execution_count": 84,
   "metadata": {
    "collapsed": false
   },
   "outputs": [
    {
     "data": {
      "text/html": [
       "<div>\n",
       "<table border=\"1\" class=\"dataframe\">\n",
       "  <thead>\n",
       "    <tr style=\"text-align: right;\">\n",
       "      <th></th>\n",
       "      <th>NAME</th>\n",
       "      <th>TITLE</th>\n",
       "      <th>SALARY</th>\n",
       "      <th>TRAVEL</th>\n",
       "      <th>ORGANIZATION</th>\n",
       "      <th>FISCAL_YEAR</th>\n",
       "      <th>FIRST_NAME</th>\n",
       "      <th>0</th>\n",
       "      <th>gender</th>\n",
       "      <th>prob</th>\n",
       "      <th>count</th>\n",
       "    </tr>\n",
       "  </thead>\n",
       "  <tbody>\n",
       "    <tr>\n",
       "      <th>0</th>\n",
       "      <td>COVINGTON,TAMMY D</td>\n",
       "      <td>CORRECTIONS OFFICER(WL)</td>\n",
       "      <td>30416.88</td>\n",
       "      <td>90.00</td>\n",
       "      <td>JUVENILE JUSTICE, DEPARTMENT OF</td>\n",
       "      <td>2013</td>\n",
       "      <td>TAMMY</td>\n",
       "      <td>TAMMY</td>\n",
       "      <td>female</td>\n",
       "      <td>1</td>\n",
       "      <td>1378</td>\n",
       "    </tr>\n",
       "    <tr>\n",
       "      <th>1</th>\n",
       "      <td>COWAN,SELINA L</td>\n",
       "      <td>CORRECTIONS OFFICER(WL)</td>\n",
       "      <td>4726.76</td>\n",
       "      <td>0.00</td>\n",
       "      <td>JUVENILE JUSTICE, DEPARTMENT OF</td>\n",
       "      <td>2013</td>\n",
       "      <td>SELINA</td>\n",
       "      <td>SELINA</td>\n",
       "      <td>female</td>\n",
       "      <td>1</td>\n",
       "      <td>176</td>\n",
       "    </tr>\n",
       "    <tr>\n",
       "      <th>2</th>\n",
       "      <td>COWSER,LATOYA</td>\n",
       "      <td>CORRECTIONS OFFICER(WL)</td>\n",
       "      <td>3582.38</td>\n",
       "      <td>0.00</td>\n",
       "      <td>JUVENILE JUSTICE, DEPARTMENT OF</td>\n",
       "      <td>2013</td>\n",
       "      <td>LATOYA</td>\n",
       "      <td>LATOYA</td>\n",
       "      <td>female</td>\n",
       "      <td>0.99</td>\n",
       "      <td>126</td>\n",
       "    </tr>\n",
       "    <tr>\n",
       "      <th>3</th>\n",
       "      <td>COX,JAMES K</td>\n",
       "      <td>PROBATION/PAROLEOFFICER(EL)</td>\n",
       "      <td>31060.00</td>\n",
       "      <td>168.83</td>\n",
       "      <td>JUVENILE JUSTICE, DEPARTMENT OF</td>\n",
       "      <td>2013</td>\n",
       "      <td>JAMES</td>\n",
       "      <td>JAMES</td>\n",
       "      <td>male</td>\n",
       "      <td>0.99</td>\n",
       "      <td>6359</td>\n",
       "    </tr>\n",
       "    <tr>\n",
       "      <th>4</th>\n",
       "      <td>COX-DENNIS,EVA</td>\n",
       "      <td>CORRECTIONS OFFICER(WL)</td>\n",
       "      <td>34063.43</td>\n",
       "      <td>0.00</td>\n",
       "      <td>JUVENILE JUSTICE, DEPARTMENT OF</td>\n",
       "      <td>2013</td>\n",
       "      <td>EVA</td>\n",
       "      <td>EVA</td>\n",
       "      <td>female</td>\n",
       "      <td>1</td>\n",
       "      <td>1715</td>\n",
       "    </tr>\n",
       "  </tbody>\n",
       "</table>\n",
       "</div>"
      ],
      "text/plain": [
       "                NAME                        TITLE    SALARY  TRAVEL  \\\n",
       "0  COVINGTON,TAMMY D      CORRECTIONS OFFICER(WL)  30416.88   90.00   \n",
       "1     COWAN,SELINA L      CORRECTIONS OFFICER(WL)   4726.76    0.00   \n",
       "2      COWSER,LATOYA      CORRECTIONS OFFICER(WL)   3582.38    0.00   \n",
       "3        COX,JAMES K  PROBATION/PAROLEOFFICER(EL)  31060.00  168.83   \n",
       "4     COX-DENNIS,EVA      CORRECTIONS OFFICER(WL)  34063.43    0.00   \n",
       "\n",
       "                      ORGANIZATION  FISCAL_YEAR FIRST_NAME       0  gender  \\\n",
       "0  JUVENILE JUSTICE, DEPARTMENT OF         2013      TAMMY   TAMMY  female   \n",
       "1  JUVENILE JUSTICE, DEPARTMENT OF         2013     SELINA  SELINA  female   \n",
       "2  JUVENILE JUSTICE, DEPARTMENT OF         2013     LATOYA  LATOYA  female   \n",
       "3  JUVENILE JUSTICE, DEPARTMENT OF         2013      JAMES   JAMES    male   \n",
       "4  JUVENILE JUSTICE, DEPARTMENT OF         2013        EVA     EVA  female   \n",
       "\n",
       "   prob count  \n",
       "0     1  1378  \n",
       "1     1   176  \n",
       "2  0.99   126  \n",
       "3  0.99  6359  \n",
       "4     1  1715  "
      ]
     },
     "execution_count": 84,
     "metadata": {},
     "output_type": "execute_result"
    }
   ],
   "source": [
    "df2.head()"
   ]
  },
  {
   "cell_type": "code",
   "execution_count": 12,
   "metadata": {
    "collapsed": true
   },
   "outputs": [],
   "source": [
    "df2_f=df2[df2['gender']=='female']\n",
    "df2_m=df2[df2['gender']=='male']"
   ]
  },
  {
   "cell_type": "code",
   "execution_count": 20,
   "metadata": {
    "collapsed": true
   },
   "outputs": [],
   "source": [
    "freq_f=df2_f['TITLE'].value_counts()\n",
    "freq_m=df2_m['TITLE'].value_counts()\n",
    "freq_m=pd.DataFrame(data=freq_m)\n",
    "freq_m=freq_m.reset_index()\n",
    "freq_m.columns=['TITLE','COUNTS']\n",
    "freq_f=pd.DataFrame(data=freq_f)\n",
    "freq_f=freq_f.reset_index()\n",
    "freq_f.columns=['TITLE','COUNTS']\n"
   ]
  },
  {
   "cell_type": "code",
   "execution_count": 27,
   "metadata": {
    "collapsed": true
   },
   "outputs": [],
   "source": [
    "sal_f=df2_f.groupby('TITLE', as_index=False)['SALARY'].median()\n",
    "sal_m=df2_m.groupby('TITLE', as_index=False)['SALARY'].median()\n",
    "sal_m=sal_m.merge(freq_m,how='left', left_on='TITLE', right_on='TITLE')\n",
    "sal_f=sal_f.merge(freq_f,how='left', left_on='TITLE', right_on='TITLE')\n",
    "sal=sal_m.merge(sal_f,how='left', left_on='TITLE', right_on='TITLE')\n",
    "sal.columns = ['TITLE','SALARY_M','COUNTS_M','SALARY_F','COUNTS_F']\n",
    "sal=sal.dropna()"
   ]
  },
  {
   "cell_type": "code",
   "execution_count": 34,
   "metadata": {
    "collapsed": false
   },
   "outputs": [
    {
     "name": "stderr",
     "output_type": "stream",
     "text": [
      "/home/svivek/anaconda3/lib/python3.5/site-packages/ipykernel/__main__.py:2: SettingWithCopyWarning: \n",
      "A value is trying to be set on a copy of a slice from a DataFrame.\n",
      "Try using .loc[row_indexer,col_indexer] = value instead\n",
      "\n",
      "See the caveats in the documentation: http://pandas.pydata.org/pandas-docs/stable/indexing.html#indexing-view-versus-copy\n",
      "  from ipykernel import kernelapp as app\n"
     ]
    }
   ],
   "source": [
    "sal_largeN=sal[sal['COUNTS_M']>10000]\n",
    "sal_largeN['COUNTS'] = sal_largeN.apply(lambda _: 'large', axis=1)\n"
   ]
  },
  {
   "cell_type": "code",
   "execution_count": 35,
   "metadata": {
    "collapsed": false
   },
   "outputs": [],
   "source": [
    "df2_m_largeN=df2_m.merge(sal_largeN,how='left', left_on='TITLE', right_on='TITLE')\n",
    "df2_f_largeN=df2_f.merge(sal_largeN,how='left', left_on='TITLE', right_on='TITLE')\n",
    "df2_m_largeN=df2_m_largeN.dropna(subset=['COUNTS'])\n",
    "df2_f_largeN=df2_f_largeN.dropna(subset=['COUNTS'])"
   ]
  },
  {
   "cell_type": "code",
   "execution_count": 85,
   "metadata": {
    "collapsed": false
   },
   "outputs": [
    {
     "data": {
      "text/html": [
       "<div>\n",
       "<table border=\"1\" class=\"dataframe\">\n",
       "  <thead>\n",
       "    <tr style=\"text-align: right;\">\n",
       "      <th></th>\n",
       "      <th>NAME</th>\n",
       "      <th>TITLE</th>\n",
       "      <th>SALARY</th>\n",
       "      <th>TRAVEL</th>\n",
       "      <th>ORGANIZATION</th>\n",
       "      <th>FISCAL_YEAR</th>\n",
       "      <th>FIRST_NAME</th>\n",
       "      <th>0</th>\n",
       "      <th>gender</th>\n",
       "      <th>prob</th>\n",
       "      <th>count</th>\n",
       "      <th>SALARY_M</th>\n",
       "      <th>COUNTS_M</th>\n",
       "      <th>SALARY_F</th>\n",
       "      <th>COUNTS_F</th>\n",
       "      <th>COUNTS</th>\n",
       "    </tr>\n",
       "  </thead>\n",
       "  <tbody>\n",
       "    <tr>\n",
       "      <th>4</th>\n",
       "      <td>HART,PRESTON L</td>\n",
       "      <td>CORRECTIONS OFFICER(WL)</td>\n",
       "      <td>6381.35</td>\n",
       "      <td>330.00</td>\n",
       "      <td>JUVENILE JUSTICE, DEPARTMENT OF</td>\n",
       "      <td>2013</td>\n",
       "      <td>PRESTON</td>\n",
       "      <td>PRESTON</td>\n",
       "      <td>male</td>\n",
       "      <td>0.99</td>\n",
       "      <td>136</td>\n",
       "      <td>25738.16</td>\n",
       "      <td>31347.0</td>\n",
       "      <td>26814.96</td>\n",
       "      <td>22278.0</td>\n",
       "      <td>large</td>\n",
       "    </tr>\n",
       "    <tr>\n",
       "      <th>5</th>\n",
       "      <td>HART,SAMUEL JERRY</td>\n",
       "      <td>CORRECTIONS OFFICER(WL)</td>\n",
       "      <td>22295.24</td>\n",
       "      <td>465.39</td>\n",
       "      <td>JUVENILE JUSTICE, DEPARTMENT OF</td>\n",
       "      <td>2013</td>\n",
       "      <td>SAMUEL</td>\n",
       "      <td>SAMUEL</td>\n",
       "      <td>male</td>\n",
       "      <td>1</td>\n",
       "      <td>1409</td>\n",
       "      <td>25738.16</td>\n",
       "      <td>31347.0</td>\n",
       "      <td>26814.96</td>\n",
       "      <td>22278.0</td>\n",
       "      <td>large</td>\n",
       "    </tr>\n",
       "    <tr>\n",
       "      <th>9</th>\n",
       "      <td>HARVEY,ANTHONY</td>\n",
       "      <td>CORRECTIONS OFFICER(WL)</td>\n",
       "      <td>23294.79</td>\n",
       "      <td>0.00</td>\n",
       "      <td>JUVENILE JUSTICE, DEPARTMENT OF</td>\n",
       "      <td>2013</td>\n",
       "      <td>ANTHONY</td>\n",
       "      <td>ANTHONY</td>\n",
       "      <td>male</td>\n",
       "      <td>1</td>\n",
       "      <td>3029</td>\n",
       "      <td>25738.16</td>\n",
       "      <td>31347.0</td>\n",
       "      <td>26814.96</td>\n",
       "      <td>22278.0</td>\n",
       "      <td>large</td>\n",
       "    </tr>\n",
       "    <tr>\n",
       "      <th>10</th>\n",
       "      <td>HARVEY,DWAYNE</td>\n",
       "      <td>CORRECTIONS OFFICER(WL)</td>\n",
       "      <td>13595.42</td>\n",
       "      <td>0.00</td>\n",
       "      <td>JUVENILE JUSTICE, DEPARTMENT OF</td>\n",
       "      <td>2013</td>\n",
       "      <td>DWAYNE</td>\n",
       "      <td>DWAYNE</td>\n",
       "      <td>male</td>\n",
       "      <td>0.99</td>\n",
       "      <td>186</td>\n",
       "      <td>25738.16</td>\n",
       "      <td>31347.0</td>\n",
       "      <td>26814.96</td>\n",
       "      <td>22278.0</td>\n",
       "      <td>large</td>\n",
       "    </tr>\n",
       "    <tr>\n",
       "      <th>12</th>\n",
       "      <td>HARVEY,WARREN T</td>\n",
       "      <td>CORRECTIONS OFFICER(WL)</td>\n",
       "      <td>29266.24</td>\n",
       "      <td>0.00</td>\n",
       "      <td>JUVENILE JUSTICE, DEPARTMENT OF</td>\n",
       "      <td>2013</td>\n",
       "      <td>WARREN</td>\n",
       "      <td>WARREN</td>\n",
       "      <td>male</td>\n",
       "      <td>1</td>\n",
       "      <td>402</td>\n",
       "      <td>25738.16</td>\n",
       "      <td>31347.0</td>\n",
       "      <td>26814.96</td>\n",
       "      <td>22278.0</td>\n",
       "      <td>large</td>\n",
       "    </tr>\n",
       "  </tbody>\n",
       "</table>\n",
       "</div>"
      ],
      "text/plain": [
       "                 NAME                    TITLE    SALARY  TRAVEL  \\\n",
       "4      HART,PRESTON L  CORRECTIONS OFFICER(WL)   6381.35  330.00   \n",
       "5   HART,SAMUEL JERRY  CORRECTIONS OFFICER(WL)  22295.24  465.39   \n",
       "9      HARVEY,ANTHONY  CORRECTIONS OFFICER(WL)  23294.79    0.00   \n",
       "10      HARVEY,DWAYNE  CORRECTIONS OFFICER(WL)  13595.42    0.00   \n",
       "12    HARVEY,WARREN T  CORRECTIONS OFFICER(WL)  29266.24    0.00   \n",
       "\n",
       "                       ORGANIZATION  FISCAL_YEAR FIRST_NAME        0 gender  \\\n",
       "4   JUVENILE JUSTICE, DEPARTMENT OF         2013    PRESTON  PRESTON   male   \n",
       "5   JUVENILE JUSTICE, DEPARTMENT OF         2013     SAMUEL   SAMUEL   male   \n",
       "9   JUVENILE JUSTICE, DEPARTMENT OF         2013    ANTHONY  ANTHONY   male   \n",
       "10  JUVENILE JUSTICE, DEPARTMENT OF         2013     DWAYNE   DWAYNE   male   \n",
       "12  JUVENILE JUSTICE, DEPARTMENT OF         2013     WARREN   WARREN   male   \n",
       "\n",
       "    prob count  SALARY_M  COUNTS_M  SALARY_F  COUNTS_F COUNTS  \n",
       "4   0.99   136  25738.16   31347.0  26814.96   22278.0  large  \n",
       "5      1  1409  25738.16   31347.0  26814.96   22278.0  large  \n",
       "9      1  3029  25738.16   31347.0  26814.96   22278.0  large  \n",
       "10  0.99   186  25738.16   31347.0  26814.96   22278.0  large  \n",
       "12     1   402  25738.16   31347.0  26814.96   22278.0  large  "
      ]
     },
     "execution_count": 85,
     "metadata": {},
     "output_type": "execute_result"
    }
   ],
   "source": [
    "df2_m_largeN.head()"
   ]
  },
  {
   "cell_type": "code",
   "execution_count": 41,
   "metadata": {
    "collapsed": false
   },
   "outputs": [
    {
     "name": "stderr",
     "output_type": "stream",
     "text": [
      "/home/svivek/anaconda3/lib/python3.5/site-packages/ipykernel/__main__.py:2: FutureWarning: sort(columns=....) is deprecated, use sort_values(by=.....)\n",
      "  from ipykernel import kernelapp as app\n"
     ]
    }
   ],
   "source": [
    "sal_largeN['SALARY']=(sal_largeN['SALARY_M']+sal_largeN['SALARY_F'])/2\n",
    "sal_largeN=sal_largeN.sort(['SALARY'])\n",
    "#sal_largeN.plot.bar(x='TITLE', y='COUNTS_M_FRAC')"
   ]
  },
  {
   "cell_type": "code",
   "execution_count": 46,
   "metadata": {
    "collapsed": false
   },
   "outputs": [],
   "source": [
    "sal_largeN_frac=np.zeros((len(sal_largeN),2))\n",
    "sal_largeN['COUNTS_M_FRAC']=sal_largeN['COUNTS_M']/sal_largeN['COUNTS_M'].sum()\n",
    "sal_largeN['COUNTS_F_FRAC']=sal_largeN['COUNTS_F']/sal_largeN['COUNTS_F'].sum()\n",
    "sal_largeN_frac[:,0]=sal_largeN['COUNTS_M_FRAC'].as_matrix()\n",
    "sal_largeN_frac[:,1]=sal_largeN['COUNTS_F_FRAC'].as_matrix()\n",
    "labels=list(sal_largeN['TITLE'])"
   ]
  },
  {
   "cell_type": "code",
   "execution_count": 49,
   "metadata": {
    "collapsed": false
   },
   "outputs": [
    {
     "data": {
      "text/plain": [
       "<matplotlib.figure.Figure at 0x7f355cbce6d8>"
      ]
     },
     "metadata": {},
     "output_type": "display_data"
    },
    {
     "data": {
      "image/png": "[encoded data removed]",
      "text/plain": [
       "<matplotlib.figure.Figure at 0x7f355cbc6630>"
      ]
     },
     "metadata": {},
     "output_type": "display_data"
    }
   ],
   "source": [
    "labels=list(sal_largeN['TITLE'])\n",
    "fig=plt.figure()\n",
    "plt.figure(figsize=(6, 10))\n",
    "plt.subplot(2, 1, 1)\n",
    "plt.bar(np.zeros(1),df2_m_largeN['SALARY'].median(),align='center')\n",
    "plt.bar(np.zeros(1)+1,df2_f_largeN['SALARY'].median(),color='g')\n",
    "plt.xticks(np.array([0,1.4]), ['MALE','FEMALE'], rotation=90);\n",
    "plt.ylabel('MEDIAN SALARY ($)')\n",
    "\n",
    "#plt.ylim(0,40000)\n",
    "plt.xlim(-10,10)\n",
    "plt.subplot(2, 1, 2)\n",
    "plt.bar(1.*np.arange(len(labels)), sal_largeN_frac[:,0],align='center',width=0.5)\n",
    "plt.bar(1.*np.arange(len(labels))+.1, sal_largeN_frac[:,1],color='g',width=0.5)\n",
    "#plt.bar(1.5*np.arange(len(labels))+.5, sal_largeN_frac[:,1],color='g',width=0.6)\n",
    "plt.xlim(-1,19)\n",
    "plt.xticks(1.0*np.arange(len(labels)), labels, rotation=90);\n",
    "plt.ylabel('FRACTION OF MALES/FEMALES BY JOB')\n",
    "plt.tight_layout()\n",
    "\n",
    "plt.savefig('fig1.pdf')"
   ]
  },
  {
   "cell_type": "code",
   "execution_count": null,
   "metadata": {
    "collapsed": true
   },
   "outputs": [],
   "source": [
    "#FIGURE 2"
   ]
  },
  {
   "cell_type": "code",
   "execution_count": 77,
   "metadata": {
    "collapsed": false
   },
   "outputs": [
    {
     "name": "stdout",
     "output_type": "stream",
     "text": [
      "3 16\n"
     ]
    }
   ],
   "source": [
    "x=sal_largeN['SALARY_F'].as_matrix()\n",
    "y=(100*(sal_largeN['SALARY_M']-sal_largeN['SALARY_F'])/sal_largeN['SALARY_F']).as_matrix()\n",
    "print(len(y[y>20]),len(y[y<20]))\n",
    "x=x[y<20]\n",
    "y=y[y<20]"
   ]
  },
  {
   "cell_type": "code",
   "execution_count": 68,
   "metadata": {
    "collapsed": false
   },
   "outputs": [
    {
     "data": {
      "text/plain": [
       "[<matplotlib.lines.Line2D at 0x7f352dc15be0>]"
      ]
     },
     "execution_count": 68,
     "metadata": {},
     "output_type": "execute_result"
    },
    {
     "data": {
      "image/png": "[encoded data removed]",
      "text/plain": [
       "<matplotlib.figure.Figure at 0x7f352dce0710>"
      ]
     },
     "metadata": {},
     "output_type": "display_data"
    }
   ],
   "source": [
    "plt.plot(x,y,'o')\n"
   ]
  },
  {
   "cell_type": "code",
   "execution_count": null,
   "metadata": {
    "collapsed": true
   },
   "outputs": [],
   "source": []
  },
  {
   "cell_type": "code",
   "execution_count": 74,
   "metadata": {
    "collapsed": false
   },
   "outputs": [
    {
     "name": "stdout",
     "output_type": "stream",
     "text": [
      "0.000170825849977 -6.77960967691 0.551526278629\n"
     ]
    }
   ],
   "source": [
    "slope, intercept, r_value, p_value, std_err = stats.linregress(x,y)\n",
    "print(slope,intercept,r_value**2)"
   ]
  },
  {
   "cell_type": "code",
   "execution_count": 73,
   "metadata": {
    "collapsed": false
   },
   "outputs": [
    {
     "name": "stdout",
     "output_type": "stream",
     "text": [
      "0.000170825849977 -6.77960967691 0.551526278629\n"
     ]
    }
   ],
   "source": []
  },
  {
   "cell_type": "code",
   "execution_count": 82,
   "metadata": {
    "collapsed": false
   },
   "outputs": [
    {
     "data": {
      "image/png": "[encoded data removed]",
      "text/plain": [
       "<matplotlib.figure.Figure at 0x7f352dc56b38>"
      ]
     },
     "metadata": {},
     "output_type": "display_data"
    }
   ],
   "source": [
    "fig=plt.figure()\n",
    "plt.plot(x,y,'o')\n",
    "plt.plot(np.linspace(0,100000,100),slope*np.linspace(0,100000,100)+intercept)\n",
    "plt.xlabel('MEDIAN SALARY_FEMALE($)')\n",
    "plt.ylabel('% DIFFERENCE MALE AND FEMALE SALARY')\n",
    "plt.savefig('fig2.pdf')"
   ]
  }
 ],
 "metadata": {
  "kernelspec": {
   "display_name": "Python [Root]",
   "language": "python",
   "name": "Python [Root]"
  },
  "language_info": {
   "codemirror_mode": {
    "name": "ipython",
    "version": 3
   },
   "file_extension": ".py",
   "mimetype": "text/x-python",
   "name": "python",
   "nbconvert_exporter": "python",
   "pygments_lexer": "ipython3",
   "version": "3.5.2"
  }
 },
 "nbformat": 4,
 "nbformat_minor": 0
}
