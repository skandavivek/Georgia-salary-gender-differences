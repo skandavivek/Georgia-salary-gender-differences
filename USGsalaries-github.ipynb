{
 "cells": [
  {
   "cell_type": "code",
   "execution_count": 1,
   "metadata": {
    "collapsed": true
   },
   "outputs": [],
   "source": [
    "import numpy as np\n",
    "import pandas as pd\n",
    "from matplotlib import pyplot as plt\n",
    "import requests\n",
    "import json\n",
    "%matplotlib inline\n",
    "from genderize import Genderize\n",
    "from scipy import stats\n"
   ]
  },
  {
   "cell_type": "code",
   "execution_count": 2,
   "metadata": {
    "collapsed": true
   },
   "outputs": [],
   "source": [
    "df=pd.read_csv('salary_travel_all.csv',encoding = \"ISO-8859-1\")\n",
    "n=df['NAME'].str.split(' ', 1, expand=True)\n",
    "n1=n[0].str.split(',', 1, expand=True)\n",
    "df['FIRST_NAME']=n1[1]"
   ]
  },
  {
   "cell_type": "code",
   "execution_count": 83,
   "metadata": {
    "collapsed": false
   },
   "outputs": [
    {
     "data": {
      "text/html": [
       "<div>\n",
       "<table border=\"1\" class=\"dataframe\">\n",
       "  <thead>\n",
       "    <tr style=\"text-align: right;\">\n",
       "      <th></th>\n",
       "      <th>NAME</th>\n",
       "      <th>TITLE</th>\n",
       "      <th>SALARY</th>\n",
       "      <th>TRAVEL</th>\n",
       "      <th>ORGANIZATION</th>\n",
       "      <th>FISCAL_YEAR</th>\n",
       "      <th>FIRST_NAME</th>\n",
       "    </tr>\n",
       "  </thead>\n",
       "  <tbody>\n",
       "    <tr>\n",
       "      <th>0</th>\n",
       "      <td>COVINGTON,TAMMY D</td>\n",
       "      <td>CORRECTIONS OFFICER(WL)</td>\n",
       "      <td>30416.88</td>\n",
       "      <td>90.00</td>\n",
       "      <td>JUVENILE JUSTICE, DEPARTMENT OF</td>\n",
       "      <td>2013</td>\n",
       "      <td>TAMMY</td>\n",
       "    </tr>\n",
       "    <tr>\n",
       "      <th>1</th>\n",
       "      <td>COWAN,SELINA L</td>\n",
       "      <td>CORRECTIONS OFFICER(WL)</td>\n",
       "      <td>4726.76</td>\n",
       "      <td>0.00</td>\n",
       "      <td>JUVENILE JUSTICE, DEPARTMENT OF</td>\n",
       "      <td>2013</td>\n",
       "      <td>SELINA</td>\n",
       "    </tr>\n",
       "    <tr>\n",
       "      <th>2</th>\n",
       "      <td>COWSER,LATOYA</td>\n",
       "      <td>CORRECTIONS OFFICER(WL)</td>\n",
       "      <td>3582.38</td>\n",
       "      <td>0.00</td>\n",
       "      <td>JUVENILE JUSTICE, DEPARTMENT OF</td>\n",
       "      <td>2013</td>\n",
       "      <td>LATOYA</td>\n",
       "    </tr>\n",
       "    <tr>\n",
       "      <th>3</th>\n",
       "      <td>COX,JAMES K</td>\n",
       "      <td>PROBATION/PAROLEOFFICER(EL)</td>\n",
       "      <td>31060.00</td>\n",
       "      <td>168.83</td>\n",
       "      <td>JUVENILE JUSTICE, DEPARTMENT OF</td>\n",
       "      <td>2013</td>\n",
       "      <td>JAMES</td>\n",
       "    </tr>\n",
       "    <tr>\n",
       "      <th>4</th>\n",
       "      <td>COX-DENNIS,EVA</td>\n",
       "      <td>CORRECTIONS OFFICER(WL)</td>\n",
       "      <td>34063.43</td>\n",
       "      <td>0.00</td>\n",
       "      <td>JUVENILE JUSTICE, DEPARTMENT OF</td>\n",
       "      <td>2013</td>\n",
       "      <td>EVA</td>\n",
       "    </tr>\n",
       "  </tbody>\n",
       "</table>\n",
       "</div>"
      ],
      "text/plain": [
       "                NAME                        TITLE    SALARY  TRAVEL  \\\n",
       "0  COVINGTON,TAMMY D      CORRECTIONS OFFICER(WL)  30416.88   90.00   \n",
       "1     COWAN,SELINA L      CORRECTIONS OFFICER(WL)   4726.76    0.00   \n",
       "2      COWSER,LATOYA      CORRECTIONS OFFICER(WL)   3582.38    0.00   \n",
       "3        COX,JAMES K  PROBATION/PAROLEOFFICER(EL)  31060.00  168.83   \n",
       "4     COX-DENNIS,EVA      CORRECTIONS OFFICER(WL)  34063.43    0.00   \n",
       "\n",
       "                      ORGANIZATION  FISCAL_YEAR FIRST_NAME  \n",
       "0  JUVENILE JUSTICE, DEPARTMENT OF         2013      TAMMY  \n",
       "1  JUVENILE JUSTICE, DEPARTMENT OF         2013     SELINA  \n",
       "2  JUVENILE JUSTICE, DEPARTMENT OF         2013     LATOYA  \n",
       "3  JUVENILE JUSTICE, DEPARTMENT OF         2013      JAMES  \n",
       "4  JUVENILE JUSTICE, DEPARTMENT OF         2013        EVA  "
      ]
     },
     "execution_count": 83,
     "metadata": {},
     "output_type": "execute_result"
    }
   ],
   "source": [
    "df.head()"
   ]
  },
  {
   "cell_type": "code",
   "execution_count": 13,
   "metadata": {
    "collapsed": true
   },
   "outputs": [],
   "source": [
    "freq=df['FIRST_NAME'].value_counts()"
   ]
  },
  {
   "cell_type": "code",
   "execution_count": 15,
   "metadata": {
    "collapsed": false
   },
   "outputs": [
    {
     "data": {
      "text/plain": [
       "77693"
      ]
     },
     "execution_count": 15,
     "metadata": {},
     "output_type": "execute_result"
    }
   ],
   "source": [
    "len(freq)"
   ]
  },
  {
   "cell_type": "code",
   "execution_count": 5,
   "metadata": {
    "collapsed": true
   },
   "outputs": [],
   "source": [
    "#gender=[]\n",
    "#prob=[]\n",
    "#count=[]\n",
    "genderize = Genderize(\n",
    "    user_agent='GenderizeDocs/0.0',\n",
    "    api_key='eda87f61c52501a6d6f42379dfd4d79a',\n",
    "    timeout=5.0)\n",
    "\n",
    "for i in range(50473,len(freq)):\n",
    "    r=(genderize.get([freq.index[i]]))\n",
    "    if r[0][\"gender\"] is not None:\n",
    "        gender.append(r[0][\"gender\"])\n",
    "        prob.append(r[0][\"probability\"])\n",
    "        count.append(r[0][\"count\"])\n",
    "        \n",
    "    else:\n",
    "        gender.append('0.0')\n",
    "        prob.append('0.0')\n",
    "        count.append('0.0')\n",
    "    #if(i%10==0):\n",
    "    #    print(i)\n",
    "    \n",
    "    "
   ]
  },
  {
   "cell_type": "code",
   "execution_count": null,
   "metadata": {
    "collapsed": true
   },
   "outputs": [],
   "source": []
  },
  {
   "cell_type": "code",
   "execution_count": 9,
   "metadata": {
    "collapsed": false
   },
   "outputs": [],
   "source": [
    "df_fn=pd.DataFrame(data=freq.index)\n",
    "df_fn['gender']=gender\n",
    "df_fn['prob']=prob\n",
    "df_fn['count']=count\n",
    "\n",
    "df_fn.to_pickle(\"./df_fn_all.pkl\")"
   ]
  },
  {
   "cell_type": "code",
   "execution_count": 3,
   "metadata": {
    "collapsed": true
   },
   "outputs": [],
   "source": [
    "df_fn = pd.read_pickle(\"./df_fn_all.pkl\")"
   ]
  },
  {
   "cell_type": "code",
   "execution_count": 18,
   "metadata": {
    "collapsed": false
   },
   "outputs": [
    {
     "data": {
      "text/plain": [
       "0.0       51950\n",
       "female    16404\n",
       "male       9339\n",
       "Name: gender, dtype: int64"
      ]
     },
     "execution_count": 18,
     "metadata": {},
     "output_type": "execute_result"
    }
   ],
   "source": [
    "df_fn['gender'].value_counts()"
   ]
  },
  {
   "cell_type": "code",
   "execution_count": 4,
   "metadata": {
    "collapsed": true
   },
   "outputs": [],
   "source": [
    "df2=df.copy()\n",
    "df2=df2.merge(df_fn,how='left', left_on='FIRST_NAME', right_on=0)\n"
   ]
  },
  {
   "cell_type": "code",
   "execution_count": 20,
   "metadata": {
    "collapsed": false
   },
   "outputs": [
    {
     "data": {
      "text/plain": [
       "4526089"
      ]
     },
     "execution_count": 20,
     "metadata": {},
     "output_type": "execute_result"
    }
   ],
   "source": [
    "len(df2)"
   ]
  },
  {
   "cell_type": "code",
   "execution_count": 84,
   "metadata": {
    "collapsed": false
   },
   "outputs": [
    {
     "data": {
      "text/html": [
       "<div>\n",
       "<table border=\"1\" class=\"dataframe\">\n",
       "  <thead>\n",
       "    <tr style=\"text-align: right;\">\n",
       "      <th></th>\n",
       "      <th>NAME</th>\n",
       "      <th>TITLE</th>\n",
       "      <th>SALARY</th>\n",
       "      <th>TRAVEL</th>\n",
       "      <th>ORGANIZATION</th>\n",
       "      <th>FISCAL_YEAR</th>\n",
       "      <th>FIRST_NAME</th>\n",
       "      <th>0</th>\n",
       "      <th>gender</th>\n",
       "      <th>prob</th>\n",
       "      <th>count</th>\n",
       "    </tr>\n",
       "  </thead>\n",
       "  <tbody>\n",
       "    <tr>\n",
       "      <th>0</th>\n",
       "      <td>COVINGTON,TAMMY D</td>\n",
       "      <td>CORRECTIONS OFFICER(WL)</td>\n",
       "      <td>30416.88</td>\n",
       "      <td>90.00</td>\n",
       "      <td>JUVENILE JUSTICE, DEPARTMENT OF</td>\n",
       "      <td>2013</td>\n",
       "      <td>TAMMY</td>\n",
       "      <td>TAMMY</td>\n",
       "      <td>female</td>\n",
       "      <td>1</td>\n",
       "      <td>1378</td>\n",
       "    </tr>\n",
       "    <tr>\n",
       "      <th>1</th>\n",
       "      <td>COWAN,SELINA L</td>\n",
       "      <td>CORRECTIONS OFFICER(WL)</td>\n",
       "      <td>4726.76</td>\n",
       "      <td>0.00</td>\n",
       "      <td>JUVENILE JUSTICE, DEPARTMENT OF</td>\n",
       "      <td>2013</td>\n",
       "      <td>SELINA</td>\n",
       "      <td>SELINA</td>\n",
       "      <td>female</td>\n",
       "      <td>1</td>\n",
       "      <td>176</td>\n",
       "    </tr>\n",
       "    <tr>\n",
       "      <th>2</th>\n",
       "      <td>COWSER,LATOYA</td>\n",
       "      <td>CORRECTIONS OFFICER(WL)</td>\n",
       "      <td>3582.38</td>\n",
       "      <td>0.00</td>\n",
       "      <td>JUVENILE JUSTICE, DEPARTMENT OF</td>\n",
       "      <td>2013</td>\n",
       "      <td>LATOYA</td>\n",
       "      <td>LATOYA</td>\n",
       "      <td>female</td>\n",
       "      <td>0.99</td>\n",
       "      <td>126</td>\n",
       "    </tr>\n",
       "    <tr>\n",
       "      <th>3</th>\n",
       "      <td>COX,JAMES K</td>\n",
       "      <td>PROBATION/PAROLEOFFICER(EL)</td>\n",
       "      <td>31060.00</td>\n",
       "      <td>168.83</td>\n",
       "      <td>JUVENILE JUSTICE, DEPARTMENT OF</td>\n",
       "      <td>2013</td>\n",
       "      <td>JAMES</td>\n",
       "      <td>JAMES</td>\n",
       "      <td>male</td>\n",
       "      <td>0.99</td>\n",
       "      <td>6359</td>\n",
       "    </tr>\n",
       "    <tr>\n",
       "      <th>4</th>\n",
       "      <td>COX-DENNIS,EVA</td>\n",
       "      <td>CORRECTIONS OFFICER(WL)</td>\n",
       "      <td>34063.43</td>\n",
       "      <td>0.00</td>\n",
       "      <td>JUVENILE JUSTICE, DEPARTMENT OF</td>\n",
       "      <td>2013</td>\n",
       "      <td>EVA</td>\n",
       "      <td>EVA</td>\n",
       "      <td>female</td>\n",
       "      <td>1</td>\n",
       "      <td>1715</td>\n",
       "    </tr>\n",
       "  </tbody>\n",
       "</table>\n",
       "</div>"
      ],
      "text/plain": [
       "                NAME                        TITLE    SALARY  TRAVEL  \\\n",
       "0  COVINGTON,TAMMY D      CORRECTIONS OFFICER(WL)  30416.88   90.00   \n",
       "1     COWAN,SELINA L      CORRECTIONS OFFICER(WL)   4726.76    0.00   \n",
       "2      COWSER,LATOYA      CORRECTIONS OFFICER(WL)   3582.38    0.00   \n",
       "3        COX,JAMES K  PROBATION/PAROLEOFFICER(EL)  31060.00  168.83   \n",
       "4     COX-DENNIS,EVA      CORRECTIONS OFFICER(WL)  34063.43    0.00   \n",
       "\n",
       "                      ORGANIZATION  FISCAL_YEAR FIRST_NAME       0  gender  \\\n",
       "0  JUVENILE JUSTICE, DEPARTMENT OF         2013      TAMMY   TAMMY  female   \n",
       "1  JUVENILE JUSTICE, DEPARTMENT OF         2013     SELINA  SELINA  female   \n",
       "2  JUVENILE JUSTICE, DEPARTMENT OF         2013     LATOYA  LATOYA  female   \n",
       "3  JUVENILE JUSTICE, DEPARTMENT OF         2013      JAMES   JAMES    male   \n",
       "4  JUVENILE JUSTICE, DEPARTMENT OF         2013        EVA     EVA  female   \n",
       "\n",
       "   prob count  \n",
       "0     1  1378  \n",
       "1     1   176  \n",
       "2  0.99   126  \n",
       "3  0.99  6359  \n",
       "4     1  1715  "
      ]
     },
     "execution_count": 84,
     "metadata": {},
     "output_type": "execute_result"
    }
   ],
   "source": [
    "df2.head()"
   ]
  },
  {
   "cell_type": "code",
   "execution_count": 5,
   "metadata": {
    "collapsed": true
   },
   "outputs": [],
   "source": [
    "df2_f=df2[df2['gender']=='female']\n",
    "df2_m=df2[df2['gender']=='male']\n",
    "df2_fm=df2[df2['gender']!='0.0']\n",
    "df2_u=df2[df2['gender']=='0.0']"
   ]
  },
  {
   "cell_type": "code",
   "execution_count": 263,
   "metadata": {
    "collapsed": false
   },
   "outputs": [
    {
     "data": {
      "text/plain": [
       "4526089"
      ]
     },
     "execution_count": 263,
     "metadata": {},
     "output_type": "execute_result"
    }
   ],
   "source": [
    "len(df2)"
   ]
  },
  {
   "cell_type": "code",
   "execution_count": 266,
   "metadata": {
    "collapsed": false
   },
   "outputs": [
    {
     "data": {
      "text/plain": [
       "female    2687212\n",
       "male      1186176\n",
       "Name: gender, dtype: int64"
      ]
     },
     "execution_count": 266,
     "metadata": {},
     "output_type": "execute_result"
    }
   ],
   "source": [
    "df2_fm['gender'].value_counts()"
   ]
  },
  {
   "cell_type": "code",
   "execution_count": 6,
   "metadata": {
    "collapsed": true
   },
   "outputs": [],
   "source": [
    "freq_f=df2_f['TITLE'].value_counts()\n",
    "freq_m=df2_m['TITLE'].value_counts()\n",
    "freq_m=pd.DataFrame(data=freq_m)\n",
    "freq_m=freq_m.reset_index()\n",
    "freq_m.columns=['TITLE','COUNTS']\n",
    "freq_f=pd.DataFrame(data=freq_f)\n",
    "freq_f=freq_f.reset_index()\n",
    "freq_f.columns=['TITLE','COUNTS']\n"
   ]
  },
  {
   "cell_type": "code",
   "execution_count": 7,
   "metadata": {
    "collapsed": true
   },
   "outputs": [],
   "source": [
    "sal_f=df2_f.groupby('TITLE', as_index=False)['SALARY'].median()\n",
    "sal_m=df2_m.groupby('TITLE', as_index=False)['SALARY'].median()\n",
    "sal_m=sal_m.merge(freq_m,how='left', left_on='TITLE', right_on='TITLE')\n",
    "sal_f=sal_f.merge(freq_f,how='left', left_on='TITLE', right_on='TITLE')\n",
    "sal=sal_m.merge(sal_f,how='left', left_on='TITLE', right_on='TITLE')\n",
    "sal.columns = ['TITLE','SALARY_M','COUNTS_M','SALARY_F','COUNTS_F']\n",
    "sal=sal.dropna()"
   ]
  },
  {
   "cell_type": "code",
   "execution_count": 8,
   "metadata": {
    "collapsed": false
   },
   "outputs": [
    {
     "name": "stderr",
     "output_type": "stream",
     "text": [
      "/home/svivek/anaconda3/lib/python3.5/site-packages/ipykernel/__main__.py:2: SettingWithCopyWarning: \n",
      "A value is trying to be set on a copy of a slice from a DataFrame.\n",
      "Try using .loc[row_indexer,col_indexer] = value instead\n",
      "\n",
      "See the caveats in the documentation: http://pandas.pydata.org/pandas-docs/stable/indexing.html#indexing-view-versus-copy\n",
      "  from ipykernel import kernelapp as app\n"
     ]
    }
   ],
   "source": [
    "sal_largeN=sal[sal['COUNTS_M']/sum(sal['COUNTS_M'])+sal['COUNTS_F']/sum(sal['COUNTS_F'])>.016]\n",
    "sal_largeN['COUNTS'] = sal_largeN.apply(lambda _: 'large', axis=1)\n"
   ]
  },
  {
   "cell_type": "code",
   "execution_count": 244,
   "metadata": {
    "collapsed": false
   },
   "outputs": [
    {
     "data": {
      "text/plain": [
       "28"
      ]
     },
     "execution_count": 244,
     "metadata": {},
     "output_type": "execute_result"
    }
   ],
   "source": [
    "len(sal_largeN)"
   ]
  },
  {
   "cell_type": "code",
   "execution_count": 9,
   "metadata": {
    "collapsed": false
   },
   "outputs": [],
   "source": [
    "df2_m_largeN=df2_m.merge(sal_largeN,how='left', left_on='TITLE', right_on='TITLE')\n",
    "df2_f_largeN=df2_f.merge(sal_largeN,how='left', left_on='TITLE', right_on='TITLE')\n",
    "df2_fm_largeN=df2_fm.merge(sal_largeN,how='left', left_on='TITLE', right_on='TITLE')\n",
    "df2_m_largeN=df2_m_largeN.dropna(subset=['COUNTS'])\n",
    "df2_f_largeN=df2_f_largeN.dropna(subset=['COUNTS'])\n",
    "df2_fm_largeN=df2_fm_largeN.dropna(subset=['COUNTS'])\n"
   ]
  },
  {
   "cell_type": "code",
   "execution_count": 269,
   "metadata": {
    "collapsed": false
   },
   "outputs": [
    {
     "data": {
      "text/plain": [
       "female    1412325\n",
       "male       529092\n",
       "Name: gender, dtype: int64"
      ]
     },
     "execution_count": 269,
     "metadata": {},
     "output_type": "execute_result"
    }
   ],
   "source": [
    "df2_fm_largeN['gender'].value_counts()"
   ]
  },
  {
   "cell_type": "code",
   "execution_count": 10,
   "metadata": {
    "collapsed": false
   },
   "outputs": [
    {
     "name": "stderr",
     "output_type": "stream",
     "text": [
      "/home/svivek/anaconda3/lib/python3.5/site-packages/ipykernel/__main__.py:1: SettingWithCopyWarning: \n",
      "A value is trying to be set on a copy of a slice from a DataFrame.\n",
      "Try using .loc[row_indexer,col_indexer] = value instead\n",
      "\n",
      "See the caveats in the documentation: http://pandas.pydata.org/pandas-docs/stable/indexing.html#indexing-view-versus-copy\n",
      "  if __name__ == '__main__':\n",
      "/home/svivek/anaconda3/lib/python3.5/site-packages/ipykernel/__main__.py:2: FutureWarning: sort(columns=....) is deprecated, use sort_values(by=.....)\n",
      "  from ipykernel import kernelapp as app\n"
     ]
    }
   ],
   "source": [
    "sal_largeN['SALARY']=(sal_largeN['SALARY_M']+sal_largeN['SALARY_F'])/2\n",
    "sal_largeN=sal_largeN.sort(['SALARY'])\n",
    "#sal_largeN.plot.bar(x='TITLE', y='COUNTS_M_FRAC')"
   ]
  },
  {
   "cell_type": "code",
   "execution_count": 11,
   "metadata": {
    "collapsed": false
   },
   "outputs": [
    {
     "data": {
      "text/html": [
       "<div>\n",
       "<table border=\"1\" class=\"dataframe\">\n",
       "  <thead>\n",
       "    <tr style=\"text-align: right;\">\n",
       "      <th></th>\n",
       "      <th>TITLE</th>\n",
       "      <th>SALARY_M</th>\n",
       "      <th>COUNTS_M</th>\n",
       "      <th>SALARY_F</th>\n",
       "      <th>COUNTS_F</th>\n",
       "      <th>COUNTS</th>\n",
       "      <th>SALARY</th>\n",
       "    </tr>\n",
       "  </thead>\n",
       "  <tbody>\n",
       "    <tr>\n",
       "      <th>3854</th>\n",
       "      <td>SUBSTITUTE TEACHER</td>\n",
       "      <td>2000.000</td>\n",
       "      <td>60668</td>\n",
       "      <td>2200.000</td>\n",
       "      <td>212949.0</td>\n",
       "      <td>large</td>\n",
       "      <td>2100.0000</td>\n",
       "    </tr>\n",
       "    <tr>\n",
       "      <th>2672</th>\n",
       "      <td>MISCELLANEOUS ACTIVITIES</td>\n",
       "      <td>2241.250</td>\n",
       "      <td>8890</td>\n",
       "      <td>2909.000</td>\n",
       "      <td>28983.0</td>\n",
       "      <td>large</td>\n",
       "      <td>2575.1250</td>\n",
       "    </tr>\n",
       "    <tr>\n",
       "      <th>2125</th>\n",
       "      <td>INSTRUCTOR</td>\n",
       "      <td>8450.000</td>\n",
       "      <td>13775</td>\n",
       "      <td>8800.000</td>\n",
       "      <td>19804.0</td>\n",
       "      <td>large</td>\n",
       "      <td>8625.0000</td>\n",
       "    </tr>\n",
       "    <tr>\n",
       "      <th>3604</th>\n",
       "      <td>SERVICE / MAINTENANCE WORKER</td>\n",
       "      <td>10988.190</td>\n",
       "      <td>23084</td>\n",
       "      <td>8628.740</td>\n",
       "      <td>20125.0</td>\n",
       "      <td>large</td>\n",
       "      <td>9808.4650</td>\n",
       "    </tr>\n",
       "    <tr>\n",
       "      <th>3470</th>\n",
       "      <td>SCHOOL FOOD SERVICE WORKER</td>\n",
       "      <td>10969.840</td>\n",
       "      <td>9595</td>\n",
       "      <td>11536.080</td>\n",
       "      <td>116450.0</td>\n",
       "      <td>large</td>\n",
       "      <td>11252.9600</td>\n",
       "    </tr>\n",
       "    <tr>\n",
       "      <th>2757</th>\n",
       "      <td>OFFICE / CLERICAL ASSISTANT</td>\n",
       "      <td>6408.500</td>\n",
       "      <td>9852</td>\n",
       "      <td>22765.640</td>\n",
       "      <td>37801.0</td>\n",
       "      <td>large</td>\n",
       "      <td>14587.0700</td>\n",
       "    </tr>\n",
       "    <tr>\n",
       "      <th>506</th>\n",
       "      <td>BUS DRIVER</td>\n",
       "      <td>14467.590</td>\n",
       "      <td>48303</td>\n",
       "      <td>16343.050</td>\n",
       "      <td>82385.0</td>\n",
       "      <td>large</td>\n",
       "      <td>15405.3200</td>\n",
       "    </tr>\n",
       "    <tr>\n",
       "      <th>2828</th>\n",
       "      <td>PARAPROFESSIONAL/TEACHER AIDE</td>\n",
       "      <td>16011.640</td>\n",
       "      <td>11136</td>\n",
       "      <td>16266.740</td>\n",
       "      <td>93257.0</td>\n",
       "      <td>large</td>\n",
       "      <td>16139.1900</td>\n",
       "    </tr>\n",
       "    <tr>\n",
       "      <th>3705</th>\n",
       "      <td>SPECIAL ED PARAPRO/AIDE</td>\n",
       "      <td>16651.850</td>\n",
       "      <td>13997</td>\n",
       "      <td>16715.670</td>\n",
       "      <td>85862.0</td>\n",
       "      <td>large</td>\n",
       "      <td>16683.7600</td>\n",
       "    </tr>\n",
       "    <tr>\n",
       "      <th>1052</th>\n",
       "      <td>CUSTODIAL PERSONNEL</td>\n",
       "      <td>21975.300</td>\n",
       "      <td>45668</td>\n",
       "      <td>21070.000</td>\n",
       "      <td>39799.0</td>\n",
       "      <td>large</td>\n",
       "      <td>21522.6500</td>\n",
       "    </tr>\n",
       "    <tr>\n",
       "      <th>3476</th>\n",
       "      <td>SCHOOL SECRETARY/CLERK</td>\n",
       "      <td>21974.750</td>\n",
       "      <td>1637</td>\n",
       "      <td>24096.000</td>\n",
       "      <td>40089.0</td>\n",
       "      <td>large</td>\n",
       "      <td>23035.3750</td>\n",
       "    </tr>\n",
       "    <tr>\n",
       "      <th>975</th>\n",
       "      <td>CORRECTIONS OFFICER(WL)</td>\n",
       "      <td>25734.470</td>\n",
       "      <td>31419</td>\n",
       "      <td>26814.960</td>\n",
       "      <td>22332.0</td>\n",
       "      <td>large</td>\n",
       "      <td>26274.7150</td>\n",
       "    </tr>\n",
       "    <tr>\n",
       "      <th>2428</th>\n",
       "      <td>MAINTENANCE PERSONNEL</td>\n",
       "      <td>36610.805</td>\n",
       "      <td>25136</td>\n",
       "      <td>30057.000</td>\n",
       "      <td>1737.0</td>\n",
       "      <td>large</td>\n",
       "      <td>33333.9025</td>\n",
       "    </tr>\n",
       "    <tr>\n",
       "      <th>3710</th>\n",
       "      <td>SPECIAL EDUCATION INTERRELATED</td>\n",
       "      <td>48066.620</td>\n",
       "      <td>23481</td>\n",
       "      <td>49021.930</td>\n",
       "      <td>85047.0</td>\n",
       "      <td>large</td>\n",
       "      <td>48544.2750</td>\n",
       "    </tr>\n",
       "    <tr>\n",
       "      <th>1856</th>\n",
       "      <td>GRADE 1 TEACHER</td>\n",
       "      <td>48339.855</td>\n",
       "      <td>2032</td>\n",
       "      <td>50839.440</td>\n",
       "      <td>51828.0</td>\n",
       "      <td>large</td>\n",
       "      <td>49589.6475</td>\n",
       "    </tr>\n",
       "    <tr>\n",
       "      <th>1861</th>\n",
       "      <td>GRADE 3 TEACHER</td>\n",
       "      <td>48684.355</td>\n",
       "      <td>3486</td>\n",
       "      <td>50866.690</td>\n",
       "      <td>48928.0</td>\n",
       "      <td>large</td>\n",
       "      <td>49775.5225</td>\n",
       "    </tr>\n",
       "    <tr>\n",
       "      <th>2282</th>\n",
       "      <td>KINDERGARTEN TEACHER</td>\n",
       "      <td>49043.430</td>\n",
       "      <td>5425</td>\n",
       "      <td>51109.340</td>\n",
       "      <td>58409.0</td>\n",
       "      <td>large</td>\n",
       "      <td>50076.3850</td>\n",
       "    </tr>\n",
       "    <tr>\n",
       "      <th>1862</th>\n",
       "      <td>GRADE 4 TEACHER</td>\n",
       "      <td>49652.140</td>\n",
       "      <td>4811</td>\n",
       "      <td>51550.965</td>\n",
       "      <td>41408.0</td>\n",
       "      <td>large</td>\n",
       "      <td>50601.5525</td>\n",
       "    </tr>\n",
       "    <tr>\n",
       "      <th>1868</th>\n",
       "      <td>GRADES 6-8 TEACHER</td>\n",
       "      <td>50247.130</td>\n",
       "      <td>12459</td>\n",
       "      <td>50970.470</td>\n",
       "      <td>32352.0</td>\n",
       "      <td>large</td>\n",
       "      <td>50608.8000</td>\n",
       "    </tr>\n",
       "    <tr>\n",
       "      <th>1860</th>\n",
       "      <td>GRADE 2 TEACHER</td>\n",
       "      <td>49740.320</td>\n",
       "      <td>2747</td>\n",
       "      <td>51591.080</td>\n",
       "      <td>49911.0</td>\n",
       "      <td>large</td>\n",
       "      <td>50665.7000</td>\n",
       "    </tr>\n",
       "    <tr>\n",
       "      <th>1863</th>\n",
       "      <td>GRADE 5 TEACHER</td>\n",
       "      <td>51277.080</td>\n",
       "      <td>6005</td>\n",
       "      <td>52506.490</td>\n",
       "      <td>39372.0</td>\n",
       "      <td>large</td>\n",
       "      <td>51891.7850</td>\n",
       "    </tr>\n",
       "    <tr>\n",
       "      <th>1869</th>\n",
       "      <td>GRADES 9-12 TEACHER</td>\n",
       "      <td>54155.965</td>\n",
       "      <td>73196</td>\n",
       "      <td>51307.240</td>\n",
       "      <td>99414.0</td>\n",
       "      <td>large</td>\n",
       "      <td>52731.6025</td>\n",
       "    </tr>\n",
       "    <tr>\n",
       "      <th>4210</th>\n",
       "      <td>VOCATIONAL</td>\n",
       "      <td>53173.780</td>\n",
       "      <td>11581</td>\n",
       "      <td>53369.355</td>\n",
       "      <td>17894.0</td>\n",
       "      <td>large</td>\n",
       "      <td>53271.5675</td>\n",
       "    </tr>\n",
       "    <tr>\n",
       "      <th>2123</th>\n",
       "      <td>INSTRUCTIONAL SPECIALIST P-8</td>\n",
       "      <td>54516.000</td>\n",
       "      <td>21041</td>\n",
       "      <td>52458.980</td>\n",
       "      <td>30739.0</td>\n",
       "      <td>large</td>\n",
       "      <td>53487.4900</td>\n",
       "    </tr>\n",
       "    <tr>\n",
       "      <th>285</th>\n",
       "      <td>ASSISTANT PROFESSOR</td>\n",
       "      <td>64754.480</td>\n",
       "      <td>16613</td>\n",
       "      <td>61400.000</td>\n",
       "      <td>17927.0</td>\n",
       "      <td>large</td>\n",
       "      <td>63077.2400</td>\n",
       "    </tr>\n",
       "    <tr>\n",
       "      <th>284</th>\n",
       "      <td>ASSISTANT PRINCIPAL</td>\n",
       "      <td>77255.220</td>\n",
       "      <td>12103</td>\n",
       "      <td>77874.405</td>\n",
       "      <td>19100.0</td>\n",
       "      <td>large</td>\n",
       "      <td>77564.8125</td>\n",
       "    </tr>\n",
       "    <tr>\n",
       "      <th>340</th>\n",
       "      <td>ASSOCIATE PROFESSOR</td>\n",
       "      <td>81823.575</td>\n",
       "      <td>14312</td>\n",
       "      <td>75039.485</td>\n",
       "      <td>11498.0</td>\n",
       "      <td>large</td>\n",
       "      <td>78431.5300</td>\n",
       "    </tr>\n",
       "    <tr>\n",
       "      <th>3101</th>\n",
       "      <td>PROFESSOR</td>\n",
       "      <td>108115.250</td>\n",
       "      <td>16640</td>\n",
       "      <td>95448.190</td>\n",
       "      <td>6925.0</td>\n",
       "      <td>large</td>\n",
       "      <td>101781.7200</td>\n",
       "    </tr>\n",
       "  </tbody>\n",
       "</table>\n",
       "</div>"
      ],
      "text/plain": [
       "                               TITLE    SALARY_M  COUNTS_M   SALARY_F  \\\n",
       "3854              SUBSTITUTE TEACHER    2000.000     60668   2200.000   \n",
       "2672        MISCELLANEOUS ACTIVITIES    2241.250      8890   2909.000   \n",
       "2125                      INSTRUCTOR    8450.000     13775   8800.000   \n",
       "3604    SERVICE / MAINTENANCE WORKER   10988.190     23084   8628.740   \n",
       "3470      SCHOOL FOOD SERVICE WORKER   10969.840      9595  11536.080   \n",
       "2757     OFFICE / CLERICAL ASSISTANT    6408.500      9852  22765.640   \n",
       "506                       BUS DRIVER   14467.590     48303  16343.050   \n",
       "2828   PARAPROFESSIONAL/TEACHER AIDE   16011.640     11136  16266.740   \n",
       "3705         SPECIAL ED PARAPRO/AIDE   16651.850     13997  16715.670   \n",
       "1052             CUSTODIAL PERSONNEL   21975.300     45668  21070.000   \n",
       "3476          SCHOOL SECRETARY/CLERK   21974.750      1637  24096.000   \n",
       "975          CORRECTIONS OFFICER(WL)   25734.470     31419  26814.960   \n",
       "2428           MAINTENANCE PERSONNEL   36610.805     25136  30057.000   \n",
       "3710  SPECIAL EDUCATION INTERRELATED   48066.620     23481  49021.930   \n",
       "1856                 GRADE 1 TEACHER   48339.855      2032  50839.440   \n",
       "1861                 GRADE 3 TEACHER   48684.355      3486  50866.690   \n",
       "2282            KINDERGARTEN TEACHER   49043.430      5425  51109.340   \n",
       "1862                 GRADE 4 TEACHER   49652.140      4811  51550.965   \n",
       "1868              GRADES 6-8 TEACHER   50247.130     12459  50970.470   \n",
       "1860                 GRADE 2 TEACHER   49740.320      2747  51591.080   \n",
       "1863                 GRADE 5 TEACHER   51277.080      6005  52506.490   \n",
       "1869             GRADES 9-12 TEACHER   54155.965     73196  51307.240   \n",
       "4210                      VOCATIONAL   53173.780     11581  53369.355   \n",
       "2123    INSTRUCTIONAL SPECIALIST P-8   54516.000     21041  52458.980   \n",
       "285              ASSISTANT PROFESSOR   64754.480     16613  61400.000   \n",
       "284              ASSISTANT PRINCIPAL   77255.220     12103  77874.405   \n",
       "340              ASSOCIATE PROFESSOR   81823.575     14312  75039.485   \n",
       "3101                       PROFESSOR  108115.250     16640  95448.190   \n",
       "\n",
       "      COUNTS_F COUNTS       SALARY  \n",
       "3854  212949.0  large    2100.0000  \n",
       "2672   28983.0  large    2575.1250  \n",
       "2125   19804.0  large    8625.0000  \n",
       "3604   20125.0  large    9808.4650  \n",
       "3470  116450.0  large   11252.9600  \n",
       "2757   37801.0  large   14587.0700  \n",
       "506    82385.0  large   15405.3200  \n",
       "2828   93257.0  large   16139.1900  \n",
       "3705   85862.0  large   16683.7600  \n",
       "1052   39799.0  large   21522.6500  \n",
       "3476   40089.0  large   23035.3750  \n",
       "975    22332.0  large   26274.7150  \n",
       "2428    1737.0  large   33333.9025  \n",
       "3710   85047.0  large   48544.2750  \n",
       "1856   51828.0  large   49589.6475  \n",
       "1861   48928.0  large   49775.5225  \n",
       "2282   58409.0  large   50076.3850  \n",
       "1862   41408.0  large   50601.5525  \n",
       "1868   32352.0  large   50608.8000  \n",
       "1860   49911.0  large   50665.7000  \n",
       "1863   39372.0  large   51891.7850  \n",
       "1869   99414.0  large   52731.6025  \n",
       "4210   17894.0  large   53271.5675  \n",
       "2123   30739.0  large   53487.4900  \n",
       "285    17927.0  large   63077.2400  \n",
       "284    19100.0  large   77564.8125  \n",
       "340    11498.0  large   78431.5300  \n",
       "3101    6925.0  large  101781.7200  "
      ]
     },
     "execution_count": 11,
     "metadata": {},
     "output_type": "execute_result"
    }
   ],
   "source": [
    "sal_largeN"
   ]
  },
  {
   "cell_type": "code",
   "execution_count": 12,
   "metadata": {
    "collapsed": false
   },
   "outputs": [
    {
     "data": {
      "text/plain": [
       "1412325.0"
      ]
     },
     "execution_count": 12,
     "metadata": {},
     "output_type": "execute_result"
    }
   ],
   "source": [
    "sal_largeN['COUNTS_F'].sum()"
   ]
  },
  {
   "cell_type": "code",
   "execution_count": 13,
   "metadata": {
    "collapsed": false
   },
   "outputs": [],
   "source": [
    "sal_largeN_frac=np.zeros((len(sal_largeN),2))\n",
    "sal_largeN['COUNTS_M_FRAC']=sal_largeN['COUNTS_M']/sum(sal['COUNTS_M'])\n",
    "sal_largeN['COUNTS_F_FRAC']=sal_largeN['COUNTS_F']/sum(sal['COUNTS_F'])\n",
    "sal_largeN_frac[:,0]=sal_largeN['COUNTS_M_FRAC'].as_matrix()\n",
    "sal_largeN_frac[:,1]=sal_largeN['COUNTS_F_FRAC'].as_matrix()\n",
    "labels=list(sal_largeN['TITLE'])"
   ]
  },
  {
   "cell_type": "code",
   "execution_count": 14,
   "metadata": {
    "collapsed": false
   },
   "outputs": [
    {
     "data": {
      "text/plain": [
       "36994.68356497639"
      ]
     },
     "execution_count": 14,
     "metadata": {},
     "output_type": "execute_result"
    }
   ],
   "source": [
    "df2_m_largeN['SALARY'].std()"
   ]
  },
  {
   "cell_type": "code",
   "execution_count": 15,
   "metadata": {
    "collapsed": false
   },
   "outputs": [
    {
     "data": {
      "text/plain": [
       "<matplotlib.figure.Figure at 0x7f3874c19978>"
      ]
     },
     "metadata": {},
     "output_type": "display_data"
    },
    {
     "data": {
      "image/png": "[encoded data removed]",
      "text/plain": [
       "<matplotlib.figure.Figure at 0x7f3874c199b0>"
      ]
     },
     "metadata": {},
     "output_type": "display_data"
    }
   ],
   "source": [
    "labels=list(sal_largeN['TITLE'])\n",
    "fig=plt.figure()\n",
    "plt.figure(figsize=(8, 10))\n",
    "plt.subplot(2, 1, 1)\n",
    "plt.bar(np.zeros(1),df2_m_largeN['SALARY'].median(),align='center')\n",
    "plt.bar(np.zeros(1)+1,df2_f_largeN['SALARY'].median(),color='g')\n",
    "plt.xticks(np.array([0,1.4]), ['MEN','WOMEN'], rotation=90);\n",
    "plt.ylabel('MEDIAN SALARY ($)')\n",
    "\n",
    "#plt.ylim(0,40000)\n",
    "plt.xlim(-10,10)\n",
    "plt.subplot(2, 1, 2)\n",
    "plt.bar(1.*np.arange(len(labels)), sal_largeN_frac[:,0]*100,align='center',width=0.5)\n",
    "plt.bar(1.*np.arange(len(labels))+.1, sal_largeN_frac[:,1]*100,color='g',width=0.5)\n",
    "#plt.bar(1.5*np.arange(len(labels))+.5, sal_largeN_frac[:,1],color='g',width=0.6)\n",
    "plt.xlim(-1,len(sal_largeN))\n",
    "plt.xticks(1.0*np.arange(len(labels)), labels, rotation=90);\n",
    "plt.ylabel('% OF MEN, WOMEN BY JOB')\n",
    "plt.tight_layout()\n",
    "\n",
    "plt.savefig('fig1-new.pdf')"
   ]
  },
  {
   "cell_type": "code",
   "execution_count": 16,
   "metadata": {
    "collapsed": false
   },
   "outputs": [
    {
     "data": {
      "text/plain": [
       "0.20000176051141824"
      ]
     },
     "execution_count": 16,
     "metadata": {},
     "output_type": "execute_result"
    }
   ],
   "source": [
    "(df2_m_largeN['SALARY'].median()-df2_f_largeN['SALARY'].median())*2/(df2_m_largeN['SALARY'].median()+df2_f_largeN['SALARY'].median())"
   ]
  },
  {
   "cell_type": "code",
   "execution_count": null,
   "metadata": {
    "collapsed": true
   },
   "outputs": [],
   "source": [
    "#FIGURE 2"
   ]
  },
  {
   "cell_type": "code",
   "execution_count": 17,
   "metadata": {
    "collapsed": false
   },
   "outputs": [
    {
     "name": "stdout",
     "output_type": "stream",
     "text": [
      "4 24\n"
     ]
    }
   ],
   "source": [
    "x=(sal_largeN['SALARY']).as_matrix()\n",
    "y=(100*(sal_largeN['SALARY_M']-sal_largeN['SALARY_F'])/(sal_largeN['SALARY_F'])).as_matrix()\n",
    "print(len(y[abs(y)>20]),len(y[abs(y)<20]))\n",
    "x=x[abs(y)<20]\n",
    "y=y[abs(y)<20]"
   ]
  },
  {
   "cell_type": "code",
   "execution_count": 18,
   "metadata": {
    "collapsed": false
   },
   "outputs": [
    {
     "data": {
      "text/plain": [
       "[<matplotlib.lines.Line2D at 0x7f3872ff8eb8>]"
      ]
     },
     "execution_count": 18,
     "metadata": {},
     "output_type": "execute_result"
    },
    {
     "data": {
      "image/png": "[encoded data removed]",
      "text/plain": [
       "<matplotlib.figure.Figure at 0x7f383be3ba90>"
      ]
     },
     "metadata": {},
     "output_type": "display_data"
    }
   ],
   "source": [
    "plt.plot(x,y,'o')\n",
    "#plt.ylim(-20,20)"
   ]
  },
  {
   "cell_type": "code",
   "execution_count": null,
   "metadata": {
    "collapsed": true
   },
   "outputs": [],
   "source": []
  },
  {
   "cell_type": "code",
   "execution_count": 19,
   "metadata": {
    "collapsed": false
   },
   "outputs": [
    {
     "name": "stdout",
     "output_type": "stream",
     "text": [
      "0.00015889926919 -8.02734963659 0.470652975857\n"
     ]
    }
   ],
   "source": [
    "slope, intercept, r_value, p_value, std_err = stats.linregress(x,y)\n",
    "print(slope,intercept,r_value**2)"
   ]
  },
  {
   "cell_type": "code",
   "execution_count": 230,
   "metadata": {
    "collapsed": false,
    "scrolled": true
   },
   "outputs": [
    {
     "data": {
      "image/png": "[encoded data removed]",
      "text/plain": [
       "<matplotlib.figure.Figure at 0x7f006b040eb8>"
      ]
     },
     "metadata": {},
     "output_type": "display_data"
    }
   ],
   "source": [
    "fig=plt.figure()\n",
    "plt.plot(x,y,'o')\n",
    "plt.plot(np.linspace(0,160000,100),slope*np.linspace(0,100000,100)+intercept)\n",
    "plt.xlabel('MEDIAN SALARY($)')\n",
    "plt.ylabel('% DIFFERENCE IN MEN, WOMEN SALARY')\n",
    "plt.savefig('fig2-new.pdf')"
   ]
  },
  {
   "cell_type": "code",
   "execution_count": null,
   "metadata": {
    "collapsed": true
   },
   "outputs": [],
   "source": []
  }
 ],
 "metadata": {
  "anaconda-cloud": {},
  "kernelspec": {
   "display_name": "Python [Root]",
   "language": "python",
   "name": "Python [Root]"
  },
  "language_info": {
   "codemirror_mode": {
    "name": "ipython",
    "version": 3
   },
   "file_extension": ".py",
   "mimetype": "text/x-python",
   "name": "python",
   "nbconvert_exporter": "python",
   "pygments_lexer": "ipython3",
   "version": "3.5.2"
  }
 },
 "nbformat": 4,
 "nbformat_minor": 0
}
